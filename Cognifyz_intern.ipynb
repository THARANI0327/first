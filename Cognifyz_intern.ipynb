{
  "nbformat": 4,
  "nbformat_minor": 0,
  "metadata": {
    "colab": {
      "provenance": [],
      "authorship_tag": "ABX9TyNp0AAQvc7QE4bs0DLRoDzX",
      "include_colab_link": true
    },
    "kernelspec": {
      "name": "python3",
      "display_name": "Python 3"
    },
    "language_info": {
      "name": "python"
    }
  },
  "cells": [
    {
      "cell_type": "markdown",
      "metadata": {
        "id": "view-in-github",
        "colab_type": "text"
      },
      "source": [
        "<a href=\"https://colab.research.google.com/github/THARANI0327/first/blob/main/Cognifyz_intern.ipynb\" target=\"_parent\"><img src=\"https://colab.research.google.com/assets/colab-badge.svg\" alt=\"Open In Colab\"/></a>"
      ]
    },
    {
      "cell_type": "code",
      "execution_count": 1,
      "metadata": {
        "id": "-SHvNaN0S7-c"
      },
      "outputs": [],
      "source": [
        "import pandas as pd\n",
        "import numpy as np\n",
        "import matplotlib.pyplot as plt\n",
        "import seaborn as sns"
      ]
    },
    {
      "cell_type": "code",
      "source": [
        "data=pd.read_csv('/content/Dataset .csv')\n",
        "data.head()"
      ],
      "metadata": {
        "colab": {
          "base_uri": "https://localhost:8080/",
          "height": 811
        },
        "id": "A_zC1R7pTQH3",
        "outputId": "700476ae-6855-4289-cfe0-92b9949a4ab1"
      },
      "execution_count": 4,
      "outputs": [
        {
          "output_type": "execute_result",
          "data": {
            "text/plain": [
              "   Restaurant ID         Restaurant Name  Country Code              City  \\\n",
              "0        6317637        Le Petit Souffle           162       Makati City   \n",
              "1        6304287        Izakaya Kikufuji           162       Makati City   \n",
              "2        6300002  Heat - Edsa Shangri-La           162  Mandaluyong City   \n",
              "3        6318506                    Ooma           162  Mandaluyong City   \n",
              "4        6314302             Sambo Kojin           162  Mandaluyong City   \n",
              "\n",
              "                                             Address  \\\n",
              "0  Third Floor, Century City Mall, Kalayaan Avenu...   \n",
              "1  Little Tokyo, 2277 Chino Roces Avenue, Legaspi...   \n",
              "2  Edsa Shangri-La, 1 Garden Way, Ortigas, Mandal...   \n",
              "3  Third Floor, Mega Fashion Hall, SM Megamall, O...   \n",
              "4  Third Floor, Mega Atrium, SM Megamall, Ortigas...   \n",
              "\n",
              "                                     Locality  \\\n",
              "0   Century City Mall, Poblacion, Makati City   \n",
              "1  Little Tokyo, Legaspi Village, Makati City   \n",
              "2  Edsa Shangri-La, Ortigas, Mandaluyong City   \n",
              "3      SM Megamall, Ortigas, Mandaluyong City   \n",
              "4      SM Megamall, Ortigas, Mandaluyong City   \n",
              "\n",
              "                                    Locality Verbose   Longitude   Latitude  \\\n",
              "0  Century City Mall, Poblacion, Makati City, Mak...  121.027535  14.565443   \n",
              "1  Little Tokyo, Legaspi Village, Makati City, Ma...  121.014101  14.553708   \n",
              "2  Edsa Shangri-La, Ortigas, Mandaluyong City, Ma...  121.056831  14.581404   \n",
              "3  SM Megamall, Ortigas, Mandaluyong City, Mandal...  121.056475  14.585318   \n",
              "4  SM Megamall, Ortigas, Mandaluyong City, Mandal...  121.057508  14.584450   \n",
              "\n",
              "                           Cuisines  ...          Currency Has Table booking  \\\n",
              "0        French, Japanese, Desserts  ...  Botswana Pula(P)               Yes   \n",
              "1                          Japanese  ...  Botswana Pula(P)               Yes   \n",
              "2  Seafood, Asian, Filipino, Indian  ...  Botswana Pula(P)               Yes   \n",
              "3                   Japanese, Sushi  ...  Botswana Pula(P)                No   \n",
              "4                  Japanese, Korean  ...  Botswana Pula(P)               Yes   \n",
              "\n",
              "  Has Online delivery Is delivering now Switch to order menu Price range  \\\n",
              "0                  No                No                   No           3   \n",
              "1                  No                No                   No           3   \n",
              "2                  No                No                   No           4   \n",
              "3                  No                No                   No           4   \n",
              "4                  No                No                   No           4   \n",
              "\n",
              "   Aggregate rating  Rating color Rating text Votes  \n",
              "0               4.8    Dark Green   Excellent   314  \n",
              "1               4.5    Dark Green   Excellent   591  \n",
              "2               4.4         Green   Very Good   270  \n",
              "3               4.9    Dark Green   Excellent   365  \n",
              "4               4.8    Dark Green   Excellent   229  \n",
              "\n",
              "[5 rows x 21 columns]"
            ],
            "text/html": [
              "\n",
              "  <div id=\"df-a6dc7812-2dba-45fb-89f9-15b420f34c37\" class=\"colab-df-container\">\n",
              "    <div>\n",
              "<style scoped>\n",
              "    .dataframe tbody tr th:only-of-type {\n",
              "        vertical-align: middle;\n",
              "    }\n",
              "\n",
              "    .dataframe tbody tr th {\n",
              "        vertical-align: top;\n",
              "    }\n",
              "\n",
              "    .dataframe thead th {\n",
              "        text-align: right;\n",
              "    }\n",
              "</style>\n",
              "<table border=\"1\" class=\"dataframe\">\n",
              "  <thead>\n",
              "    <tr style=\"text-align: right;\">\n",
              "      <th></th>\n",
              "      <th>Restaurant ID</th>\n",
              "      <th>Restaurant Name</th>\n",
              "      <th>Country Code</th>\n",
              "      <th>City</th>\n",
              "      <th>Address</th>\n",
              "      <th>Locality</th>\n",
              "      <th>Locality Verbose</th>\n",
              "      <th>Longitude</th>\n",
              "      <th>Latitude</th>\n",
              "      <th>Cuisines</th>\n",
              "      <th>...</th>\n",
              "      <th>Currency</th>\n",
              "      <th>Has Table booking</th>\n",
              "      <th>Has Online delivery</th>\n",
              "      <th>Is delivering now</th>\n",
              "      <th>Switch to order menu</th>\n",
              "      <th>Price range</th>\n",
              "      <th>Aggregate rating</th>\n",
              "      <th>Rating color</th>\n",
              "      <th>Rating text</th>\n",
              "      <th>Votes</th>\n",
              "    </tr>\n",
              "  </thead>\n",
              "  <tbody>\n",
              "    <tr>\n",
              "      <th>0</th>\n",
              "      <td>6317637</td>\n",
              "      <td>Le Petit Souffle</td>\n",
              "      <td>162</td>\n",
              "      <td>Makati City</td>\n",
              "      <td>Third Floor, Century City Mall, Kalayaan Avenu...</td>\n",
              "      <td>Century City Mall, Poblacion, Makati City</td>\n",
              "      <td>Century City Mall, Poblacion, Makati City, Mak...</td>\n",
              "      <td>121.027535</td>\n",
              "      <td>14.565443</td>\n",
              "      <td>French, Japanese, Desserts</td>\n",
              "      <td>...</td>\n",
              "      <td>Botswana Pula(P)</td>\n",
              "      <td>Yes</td>\n",
              "      <td>No</td>\n",
              "      <td>No</td>\n",
              "      <td>No</td>\n",
              "      <td>3</td>\n",
              "      <td>4.8</td>\n",
              "      <td>Dark Green</td>\n",
              "      <td>Excellent</td>\n",
              "      <td>314</td>\n",
              "    </tr>\n",
              "    <tr>\n",
              "      <th>1</th>\n",
              "      <td>6304287</td>\n",
              "      <td>Izakaya Kikufuji</td>\n",
              "      <td>162</td>\n",
              "      <td>Makati City</td>\n",
              "      <td>Little Tokyo, 2277 Chino Roces Avenue, Legaspi...</td>\n",
              "      <td>Little Tokyo, Legaspi Village, Makati City</td>\n",
              "      <td>Little Tokyo, Legaspi Village, Makati City, Ma...</td>\n",
              "      <td>121.014101</td>\n",
              "      <td>14.553708</td>\n",
              "      <td>Japanese</td>\n",
              "      <td>...</td>\n",
              "      <td>Botswana Pula(P)</td>\n",
              "      <td>Yes</td>\n",
              "      <td>No</td>\n",
              "      <td>No</td>\n",
              "      <td>No</td>\n",
              "      <td>3</td>\n",
              "      <td>4.5</td>\n",
              "      <td>Dark Green</td>\n",
              "      <td>Excellent</td>\n",
              "      <td>591</td>\n",
              "    </tr>\n",
              "    <tr>\n",
              "      <th>2</th>\n",
              "      <td>6300002</td>\n",
              "      <td>Heat - Edsa Shangri-La</td>\n",
              "      <td>162</td>\n",
              "      <td>Mandaluyong City</td>\n",
              "      <td>Edsa Shangri-La, 1 Garden Way, Ortigas, Mandal...</td>\n",
              "      <td>Edsa Shangri-La, Ortigas, Mandaluyong City</td>\n",
              "      <td>Edsa Shangri-La, Ortigas, Mandaluyong City, Ma...</td>\n",
              "      <td>121.056831</td>\n",
              "      <td>14.581404</td>\n",
              "      <td>Seafood, Asian, Filipino, Indian</td>\n",
              "      <td>...</td>\n",
              "      <td>Botswana Pula(P)</td>\n",
              "      <td>Yes</td>\n",
              "      <td>No</td>\n",
              "      <td>No</td>\n",
              "      <td>No</td>\n",
              "      <td>4</td>\n",
              "      <td>4.4</td>\n",
              "      <td>Green</td>\n",
              "      <td>Very Good</td>\n",
              "      <td>270</td>\n",
              "    </tr>\n",
              "    <tr>\n",
              "      <th>3</th>\n",
              "      <td>6318506</td>\n",
              "      <td>Ooma</td>\n",
              "      <td>162</td>\n",
              "      <td>Mandaluyong City</td>\n",
              "      <td>Third Floor, Mega Fashion Hall, SM Megamall, O...</td>\n",
              "      <td>SM Megamall, Ortigas, Mandaluyong City</td>\n",
              "      <td>SM Megamall, Ortigas, Mandaluyong City, Mandal...</td>\n",
              "      <td>121.056475</td>\n",
              "      <td>14.585318</td>\n",
              "      <td>Japanese, Sushi</td>\n",
              "      <td>...</td>\n",
              "      <td>Botswana Pula(P)</td>\n",
              "      <td>No</td>\n",
              "      <td>No</td>\n",
              "      <td>No</td>\n",
              "      <td>No</td>\n",
              "      <td>4</td>\n",
              "      <td>4.9</td>\n",
              "      <td>Dark Green</td>\n",
              "      <td>Excellent</td>\n",
              "      <td>365</td>\n",
              "    </tr>\n",
              "    <tr>\n",
              "      <th>4</th>\n",
              "      <td>6314302</td>\n",
              "      <td>Sambo Kojin</td>\n",
              "      <td>162</td>\n",
              "      <td>Mandaluyong City</td>\n",
              "      <td>Third Floor, Mega Atrium, SM Megamall, Ortigas...</td>\n",
              "      <td>SM Megamall, Ortigas, Mandaluyong City</td>\n",
              "      <td>SM Megamall, Ortigas, Mandaluyong City, Mandal...</td>\n",
              "      <td>121.057508</td>\n",
              "      <td>14.584450</td>\n",
              "      <td>Japanese, Korean</td>\n",
              "      <td>...</td>\n",
              "      <td>Botswana Pula(P)</td>\n",
              "      <td>Yes</td>\n",
              "      <td>No</td>\n",
              "      <td>No</td>\n",
              "      <td>No</td>\n",
              "      <td>4</td>\n",
              "      <td>4.8</td>\n",
              "      <td>Dark Green</td>\n",
              "      <td>Excellent</td>\n",
              "      <td>229</td>\n",
              "    </tr>\n",
              "  </tbody>\n",
              "</table>\n",
              "<p>5 rows × 21 columns</p>\n",
              "</div>\n",
              "    <div class=\"colab-df-buttons\">\n",
              "\n",
              "  <div class=\"colab-df-container\">\n",
              "    <button class=\"colab-df-convert\" onclick=\"convertToInteractive('df-a6dc7812-2dba-45fb-89f9-15b420f34c37')\"\n",
              "            title=\"Convert this dataframe to an interactive table.\"\n",
              "            style=\"display:none;\">\n",
              "\n",
              "  <svg xmlns=\"http://www.w3.org/2000/svg\" height=\"24px\" viewBox=\"0 -960 960 960\">\n",
              "    <path d=\"M120-120v-720h720v720H120Zm60-500h600v-160H180v160Zm220 220h160v-160H400v160Zm0 220h160v-160H400v160ZM180-400h160v-160H180v160Zm440 0h160v-160H620v160ZM180-180h160v-160H180v160Zm440 0h160v-160H620v160Z\"/>\n",
              "  </svg>\n",
              "    </button>\n",
              "\n",
              "  <style>\n",
              "    .colab-df-container {\n",
              "      display:flex;\n",
              "      gap: 12px;\n",
              "    }\n",
              "\n",
              "    .colab-df-convert {\n",
              "      background-color: #E8F0FE;\n",
              "      border: none;\n",
              "      border-radius: 50%;\n",
              "      cursor: pointer;\n",
              "      display: none;\n",
              "      fill: #1967D2;\n",
              "      height: 32px;\n",
              "      padding: 0 0 0 0;\n",
              "      width: 32px;\n",
              "    }\n",
              "\n",
              "    .colab-df-convert:hover {\n",
              "      background-color: #E2EBFA;\n",
              "      box-shadow: 0px 1px 2px rgba(60, 64, 67, 0.3), 0px 1px 3px 1px rgba(60, 64, 67, 0.15);\n",
              "      fill: #174EA6;\n",
              "    }\n",
              "\n",
              "    .colab-df-buttons div {\n",
              "      margin-bottom: 4px;\n",
              "    }\n",
              "\n",
              "    [theme=dark] .colab-df-convert {\n",
              "      background-color: #3B4455;\n",
              "      fill: #D2E3FC;\n",
              "    }\n",
              "\n",
              "    [theme=dark] .colab-df-convert:hover {\n",
              "      background-color: #434B5C;\n",
              "      box-shadow: 0px 1px 3px 1px rgba(0, 0, 0, 0.15);\n",
              "      filter: drop-shadow(0px 1px 2px rgba(0, 0, 0, 0.3));\n",
              "      fill: #FFFFFF;\n",
              "    }\n",
              "  </style>\n",
              "\n",
              "    <script>\n",
              "      const buttonEl =\n",
              "        document.querySelector('#df-a6dc7812-2dba-45fb-89f9-15b420f34c37 button.colab-df-convert');\n",
              "      buttonEl.style.display =\n",
              "        google.colab.kernel.accessAllowed ? 'block' : 'none';\n",
              "\n",
              "      async function convertToInteractive(key) {\n",
              "        const element = document.querySelector('#df-a6dc7812-2dba-45fb-89f9-15b420f34c37');\n",
              "        const dataTable =\n",
              "          await google.colab.kernel.invokeFunction('convertToInteractive',\n",
              "                                                    [key], {});\n",
              "        if (!dataTable) return;\n",
              "\n",
              "        const docLinkHtml = 'Like what you see? Visit the ' +\n",
              "          '<a target=\"_blank\" href=https://colab.research.google.com/notebooks/data_table.ipynb>data table notebook</a>'\n",
              "          + ' to learn more about interactive tables.';\n",
              "        element.innerHTML = '';\n",
              "        dataTable['output_type'] = 'display_data';\n",
              "        await google.colab.output.renderOutput(dataTable, element);\n",
              "        const docLink = document.createElement('div');\n",
              "        docLink.innerHTML = docLinkHtml;\n",
              "        element.appendChild(docLink);\n",
              "      }\n",
              "    </script>\n",
              "  </div>\n",
              "\n",
              "\n",
              "    <div id=\"df-46bf31a9-f16b-4dfc-a575-79800bffa360\">\n",
              "      <button class=\"colab-df-quickchart\" onclick=\"quickchart('df-46bf31a9-f16b-4dfc-a575-79800bffa360')\"\n",
              "                title=\"Suggest charts\"\n",
              "                style=\"display:none;\">\n",
              "\n",
              "<svg xmlns=\"http://www.w3.org/2000/svg\" height=\"24px\"viewBox=\"0 0 24 24\"\n",
              "     width=\"24px\">\n",
              "    <g>\n",
              "        <path d=\"M19 3H5c-1.1 0-2 .9-2 2v14c0 1.1.9 2 2 2h14c1.1 0 2-.9 2-2V5c0-1.1-.9-2-2-2zM9 17H7v-7h2v7zm4 0h-2V7h2v10zm4 0h-2v-4h2v4z\"/>\n",
              "    </g>\n",
              "</svg>\n",
              "      </button>\n",
              "\n",
              "<style>\n",
              "  .colab-df-quickchart {\n",
              "      --bg-color: #E8F0FE;\n",
              "      --fill-color: #1967D2;\n",
              "      --hover-bg-color: #E2EBFA;\n",
              "      --hover-fill-color: #174EA6;\n",
              "      --disabled-fill-color: #AAA;\n",
              "      --disabled-bg-color: #DDD;\n",
              "  }\n",
              "\n",
              "  [theme=dark] .colab-df-quickchart {\n",
              "      --bg-color: #3B4455;\n",
              "      --fill-color: #D2E3FC;\n",
              "      --hover-bg-color: #434B5C;\n",
              "      --hover-fill-color: #FFFFFF;\n",
              "      --disabled-bg-color: #3B4455;\n",
              "      --disabled-fill-color: #666;\n",
              "  }\n",
              "\n",
              "  .colab-df-quickchart {\n",
              "    background-color: var(--bg-color);\n",
              "    border: none;\n",
              "    border-radius: 50%;\n",
              "    cursor: pointer;\n",
              "    display: none;\n",
              "    fill: var(--fill-color);\n",
              "    height: 32px;\n",
              "    padding: 0;\n",
              "    width: 32px;\n",
              "  }\n",
              "\n",
              "  .colab-df-quickchart:hover {\n",
              "    background-color: var(--hover-bg-color);\n",
              "    box-shadow: 0 1px 2px rgba(60, 64, 67, 0.3), 0 1px 3px 1px rgba(60, 64, 67, 0.15);\n",
              "    fill: var(--button-hover-fill-color);\n",
              "  }\n",
              "\n",
              "  .colab-df-quickchart-complete:disabled,\n",
              "  .colab-df-quickchart-complete:disabled:hover {\n",
              "    background-color: var(--disabled-bg-color);\n",
              "    fill: var(--disabled-fill-color);\n",
              "    box-shadow: none;\n",
              "  }\n",
              "\n",
              "  .colab-df-spinner {\n",
              "    border: 2px solid var(--fill-color);\n",
              "    border-color: transparent;\n",
              "    border-bottom-color: var(--fill-color);\n",
              "    animation:\n",
              "      spin 1s steps(1) infinite;\n",
              "  }\n",
              "\n",
              "  @keyframes spin {\n",
              "    0% {\n",
              "      border-color: transparent;\n",
              "      border-bottom-color: var(--fill-color);\n",
              "      border-left-color: var(--fill-color);\n",
              "    }\n",
              "    20% {\n",
              "      border-color: transparent;\n",
              "      border-left-color: var(--fill-color);\n",
              "      border-top-color: var(--fill-color);\n",
              "    }\n",
              "    30% {\n",
              "      border-color: transparent;\n",
              "      border-left-color: var(--fill-color);\n",
              "      border-top-color: var(--fill-color);\n",
              "      border-right-color: var(--fill-color);\n",
              "    }\n",
              "    40% {\n",
              "      border-color: transparent;\n",
              "      border-right-color: var(--fill-color);\n",
              "      border-top-color: var(--fill-color);\n",
              "    }\n",
              "    60% {\n",
              "      border-color: transparent;\n",
              "      border-right-color: var(--fill-color);\n",
              "    }\n",
              "    80% {\n",
              "      border-color: transparent;\n",
              "      border-right-color: var(--fill-color);\n",
              "      border-bottom-color: var(--fill-color);\n",
              "    }\n",
              "    90% {\n",
              "      border-color: transparent;\n",
              "      border-bottom-color: var(--fill-color);\n",
              "    }\n",
              "  }\n",
              "</style>\n",
              "\n",
              "      <script>\n",
              "        async function quickchart(key) {\n",
              "          const quickchartButtonEl =\n",
              "            document.querySelector('#' + key + ' button');\n",
              "          quickchartButtonEl.disabled = true;  // To prevent multiple clicks.\n",
              "          quickchartButtonEl.classList.add('colab-df-spinner');\n",
              "          try {\n",
              "            const charts = await google.colab.kernel.invokeFunction(\n",
              "                'suggestCharts', [key], {});\n",
              "          } catch (error) {\n",
              "            console.error('Error during call to suggestCharts:', error);\n",
              "          }\n",
              "          quickchartButtonEl.classList.remove('colab-df-spinner');\n",
              "          quickchartButtonEl.classList.add('colab-df-quickchart-complete');\n",
              "        }\n",
              "        (() => {\n",
              "          let quickchartButtonEl =\n",
              "            document.querySelector('#df-46bf31a9-f16b-4dfc-a575-79800bffa360 button');\n",
              "          quickchartButtonEl.style.display =\n",
              "            google.colab.kernel.accessAllowed ? 'block' : 'none';\n",
              "        })();\n",
              "      </script>\n",
              "    </div>\n",
              "\n",
              "    </div>\n",
              "  </div>\n"
            ],
            "application/vnd.google.colaboratory.intrinsic+json": {
              "type": "dataframe",
              "variable_name": "data"
            }
          },
          "metadata": {},
          "execution_count": 4
        }
      ]
    },
    {
      "cell_type": "markdown",
      "source": [
        "Level 1\\\n",
        "Task 1"
      ],
      "metadata": {
        "id": "zw30A4hjTsCs"
      }
    },
    {
      "cell_type": "code",
      "source": [
        "top_cuisines = data['Cuisines'].value_counts()\n",
        "top_cuisines.head(5)\n",
        "print(\"top 5 Cuisines are\", top_cuisines.head(5))"
      ],
      "metadata": {
        "colab": {
          "base_uri": "https://localhost:8080/"
        },
        "id": "eWy1OPf4TuyJ",
        "outputId": "7e9cabff-71d7-4742-b0a4-53f5d2054485"
      },
      "execution_count": 17,
      "outputs": [
        {
          "output_type": "stream",
          "name": "stdout",
          "text": [
            "top 5 Cuisines are Cuisines\n",
            "North Indian             936\n",
            "North Indian, Chinese    511\n",
            "Chinese                  354\n",
            "Fast Food                354\n",
            "North Indian, Mughlai    334\n",
            "Name: count, dtype: int64\n"
          ]
        }
      ]
    },
    {
      "cell_type": "code",
      "metadata": {
        "colab": {
          "base_uri": "https://localhost:8080/",
          "height": 583
        },
        "id": "6afa92a3",
        "outputId": "538566e5-76bf-4f70-c944-6d410bd0b6b1"
      },
      "source": [
        "top_5_cuisines = top_cuisines.head(5)\n",
        "sns.barplot(x=top_5_cuisines.index, y=top_5_cuisines.values, palette='viridis')\n",
        "plt.title('Top 10 Cuisines')\n",
        "plt.xlabel('Cuisine')\n",
        "plt.ylabel('Number of Restaurants')\n",
        "plt.show()"
      ],
      "execution_count": 27,
      "outputs": [
        {
          "output_type": "stream",
          "name": "stderr",
          "text": [
            "/tmp/ipython-input-27-946612951.py:2: FutureWarning: \n",
            "\n",
            "Passing `palette` without assigning `hue` is deprecated and will be removed in v0.14.0. Assign the `x` variable to `hue` and set `legend=False` for the same effect.\n",
            "\n",
            "  sns.barplot(x=top_5_cuisines.index, y=top_5_cuisines.values, palette='viridis')\n"
          ]
        },
        {
          "output_type": "display_data",
          "data": {
            "text/plain": [
              "<Figure size 640x480 with 1 Axes>"
            ],
            "image/png": "[encoded data removed]"
          },
          "metadata": {}
        }
      ]
    },
    {
      "cell_type": "markdown",
      "source": [
        "# Result\n",
        "The top three Cuisines are North Indain, North Indian& Chinese, and Chinese\n",
        "\n"
      ],
      "metadata": {
        "id": "0mzzRNbQW7EB"
      }
    },
    {
      "cell_type": "code",
      "source": [
        "total_restaurants = data.shape[0]\n",
        "print('total no.of Restaurants is', total_restaurants)\n",
        "percentage_top_5_cuisines = (top_5_cuisines / total_restaurants) * 100\n",
        "print(\"Percentage of restaurants serving top 5 cuisines:\")\n",
        "print(percentage_top_5_cuisines)"
      ],
      "metadata": {
        "colab": {
          "base_uri": "https://localhost:8080/"
        },
        "id": "2GL6FWWjXqMP",
        "outputId": "d8db7787-9a1d-4447-ab85-6dd652599f38"
      },
      "execution_count": 35,
      "outputs": [
        {
          "output_type": "stream",
          "name": "stdout",
          "text": [
            "total no.of Restaurants is 9551\n",
            "Percentage of restaurants serving top 5 cuisines:\n",
            "Cuisines\n",
            "North Indian             9.800021\n",
            "North Indian, Chinese    5.350225\n",
            "Chinese                  3.706418\n",
            "Fast Food                3.706418\n",
            "North Indian, Mughlai    3.497016\n",
            "Name: count, dtype: float64\n"
          ]
        }
      ]
    },
    {
      "cell_type": "code",
      "source": [
        "plt.bar(x=percentage_top_5_cuisines.index, height=percentage_top_5_cuisines.values)\n",
        "plt.xlabel('Cuisine')\n",
        "plt.ylabel('Percentage of Restaurants')\n",
        "plt.title('Percentage of Restaurants Serving Top 5 Cuisines')\n",
        "plt.show()"
      ],
      "metadata": {
        "colab": {
          "base_uri": "https://localhost:8080/",
          "height": 472
        },
        "id": "2yC2db8zYs38",
        "outputId": "e9890a1f-227b-4656-e144-14bc8ba0c684"
      },
      "execution_count": 44,
      "outputs": [
        {
          "output_type": "display_data",
          "data": {
            "text/plain": [
              "<Figure size 640x480 with 1 Axes>"
            ],
            "image/png": "[encoded data removed]"
          },
          "metadata": {}
        }
      ]
    },
    {
      "cell_type": "markdown",
      "source": [
        "# Conclusion\n",
        "The top three Cuisines and percentage of restaurants that serve each of the top cuisines are calculated"
      ],
      "metadata": {
        "id": "dII8N84gabZy"
      }
    },
    {
      "cell_type": "markdown",
      "source": [
        "Task 2: City Anlaysis"
      ],
      "metadata": {
        "id": "ew4Re6VlbZzw"
      }
    },
    {
      "cell_type": "code",
      "source": [
        "city_counts = data['City'].value_counts()\n",
        "city_counts.head(5)\n",
        "print(\"top 5 cities are\", city_counts.head(5))\n",
        "city_with_highest_restaurants = city_counts.idxmax()\n",
        "number_of_restaurants = city_counts.max()\n",
        "print(f\"The city with the highest number of restaurants is {city_with_highest_restaurants} with {number_of_restaurants} restaurants.\")"
      ],
      "metadata": {
        "colab": {
          "base_uri": "https://localhost:8080/"
        },
        "id": "S5UKH_lobW6O",
        "outputId": "cc048164-338c-406c-96d9-35fd45cea24e"
      },
      "execution_count": 52,
      "outputs": [
        {
          "output_type": "stream",
          "name": "stdout",
          "text": [
            "top 5 cities are City\n",
            "New Delhi    5473\n",
            "Gurgaon      1118\n",
            "Noida        1080\n",
            "Faridabad     251\n",
            "Ghaziabad      25\n",
            "Name: count, dtype: int64\n",
            "The city with the highest number of restaurants is New Delhi with 5473 restaurants.\n"
          ]
        }
      ]
    },
    {
      "cell_type": "code",
      "source": [
        "average_rating_by_city = data.groupby('City')['Aggregate rating'].mean()\n",
        "print(\"Average restaurant rating by city:\")\n",
        "print(average_rating_by_city)"
      ],
      "metadata": {
        "colab": {
          "base_uri": "https://localhost:8080/"
        },
        "id": "_UTRFX8edtgh",
        "outputId": "22c8b48d-0271-4c4a-98e5-c3a571c776a3"
      },
      "execution_count": 59,
      "outputs": [
        {
          "output_type": "stream",
          "name": "stdout",
          "text": [
            "Average restaurant rating by city:\n",
            "City\n",
            "Abu Dhabi          4.300000\n",
            "Agra               3.965000\n",
            "Ahmedabad          4.161905\n",
            "Albany             3.555000\n",
            "Allahabad          3.395000\n",
            "                     ...   \n",
            "Weirton            3.900000\n",
            "Wellington City    4.250000\n",
            "Winchester Bay     3.200000\n",
            "Yorkton            3.300000\n",
            "��stanbul          4.292857\n",
            "Name: Aggregate rating, Length: 141, dtype: float64\n"
          ]
        }
      ]
    },
    {
      "cell_type": "code",
      "source": [
        "place=input(\"Enter the city name:\")\n",
        "print(average_rating_by_city[place])"
      ],
      "metadata": {
        "colab": {
          "base_uri": "https://localhost:8080/"
        },
        "id": "_-E0eES5f6U4",
        "outputId": "1782f777-c53b-45e4-869a-5eec2b347e12"
      },
      "execution_count": 65,
      "outputs": [
        {
          "output_type": "stream",
          "name": "stdout",
          "text": [
            "Enter the city name:Chennai\n",
            "4.3149999999999995\n"
          ]
        }
      ]
    },
    {
      "cell_type": "code",
      "source": [
        "city_with_highest_average_rating = average_rating_by_city.idxmax()\n",
        "highest_average_rating = average_rating_by_city.max()\n",
        "print(f\"The city with the highest average rating is {city_with_highest_average_rating} with an average rating of {highest_average_rating:.2f}.\")"
      ],
      "metadata": {
        "colab": {
          "base_uri": "https://localhost:8080/"
        },
        "id": "otmJH2YZhzTi",
        "outputId": "7738c27b-5356-401b-8997-83a90ea5aabd"
      },
      "execution_count": 66,
      "outputs": [
        {
          "output_type": "stream",
          "name": "stdout",
          "text": [
            "The city with the highest average rating is Inner City with an average rating of 4.90.\n"
          ]
        }
      ]
    },
    {
      "cell_type": "markdown",
      "source": [
        "# Conclusion\n",
        "The city with the highest numberof restaurants, the average rating for restaurants in each city, and the city with the highest average rating are found."
      ],
      "metadata": {
        "id": "YNV7xYBYiT4V"
      }
    },
    {
      "cell_type": "markdown",
      "source": [
        "Task 3: price range distribution"
      ],
      "metadata": {
        "id": "Zkujx3vpi8_N"
      }
    },
    {
      "cell_type": "code",
      "source": [
        "sns.barplot(x=data['Price range'].value_counts().index, y=data['Price range'].value_counts().values, palette='viridis')\n",
        "plt.title('Price Range Distribution')\n",
        "plt.xlabel('Price Range')\n",
        "plt.ylabel('Number of Restaurants')"
      ],
      "metadata": {
        "colab": {
          "base_uri": "https://localhost:8080/",
          "height": 602
        },
        "id": "-3PWHwKsi8Iw",
        "outputId": "b65c24ca-281d-474e-e69c-1be179381696"
      },
      "execution_count": 67,
      "outputs": [
        {
          "output_type": "stream",
          "name": "stderr",
          "text": [
            "/tmp/ipython-input-67-412005591.py:1: FutureWarning: \n",
            "\n",
            "Passing `palette` without assigning `hue` is deprecated and will be removed in v0.14.0. Assign the `x` variable to `hue` and set `legend=False` for the same effect.\n",
            "\n",
            "  sns.barplot(x=data['Price range'].value_counts().index, y=data['Price range'].value_counts().values, palette='viridis')\n"
          ]
        },
        {
          "output_type": "execute_result",
          "data": {
            "text/plain": [
              "Text(0, 0.5, 'Number of Restaurants')"
            ]
          },
          "metadata": {},
          "execution_count": 67
        },
        {
          "output_type": "display_data",
          "data": {
            "text/plain": [
              "<Figure size 640x480 with 1 Axes>"
            ],
            "image/png": "[encoded data removed]"
          },
          "metadata": {}
        }
      ]
    },
    {
      "cell_type": "code",
      "source": [
        "precentage_of_restaruant_in_each_price_range=data['Price range'].value_counts(normalize=True)*100\n",
        "print(\"Percentage of restaurants in each price range:\")\n",
        "print(precentage_of_restaruant_in_each_price_range)"
      ],
      "metadata": {
        "colab": {
          "base_uri": "https://localhost:8080/"
        },
        "id": "zq0zgBSCi0mc",
        "outputId": "02015076-55c3-49d6-b53e-7959287be0b2"
      },
      "execution_count": 68,
      "outputs": [
        {
          "output_type": "stream",
          "name": "stdout",
          "text": [
            "Percentage of restaurants in each price range:\n",
            "Price range\n",
            "1    46.529159\n",
            "2    32.593446\n",
            "3    14.741912\n",
            "4     6.135483\n",
            "Name: proportion, dtype: float64\n"
          ]
        }
      ]
    },
    {
      "cell_type": "markdown",
      "source": [
        "# Conclusion\n",
        "The price range distribution of restaruant is Visualized using bar chart and precentage of restaruant in each price range is found"
      ],
      "metadata": {
        "id": "sbg0mRTSk60W"
      }
    },
    {
      "cell_type": "markdown",
      "source": [
        "Task 4: Online Delivery"
      ],
      "metadata": {
        "id": "dPBwjVkZle2p"
      }
    },
    {
      "cell_type": "code",
      "source": [
        "per_of_rest_offering_online_delivery=data['Has Online delivery'].value_counts(normalize=True)*100\n",
        "print(\"Percentage of restaurants offering online delivery:\")\n",
        "print(per_of_rest_offering_online_delivery)"
      ],
      "metadata": {
        "colab": {
          "base_uri": "https://localhost:8080/"
        },
        "id": "ZIOs6cbFlXq6",
        "outputId": "bd68bfdb-02b7-4905-8550-de629c8b0cd6"
      },
      "execution_count": 69,
      "outputs": [
        {
          "output_type": "stream",
          "name": "stdout",
          "text": [
            "Percentage of restaurants offering online delivery:\n",
            "Has Online delivery\n",
            "No     74.337766\n",
            "Yes    25.662234\n",
            "Name: proportion, dtype: float64\n"
          ]
        }
      ]
    },
    {
      "cell_type": "markdown",
      "source": [
        "Percenatage of reataruant Offering Online delivery is 25.66"
      ],
      "metadata": {
        "id": "ERI_FnCavcJo"
      }
    },
    {
      "cell_type": "code",
      "source": [
        "per_of_rest_offering_online_delivery=data['Is delivering now'].value_counts(normalize=True)*100\n",
        "print(\"Percentage of restaurants offering online delivery:\")\n",
        "print(per_of_rest_offering_online_delivery)"
      ],
      "metadata": {
        "colab": {
          "base_uri": "https://localhost:8080/"
        },
        "id": "1JKaHecYvaq4",
        "outputId": "41849ad5-3bd2-4658-905c-e5b26c25fb7f"
      },
      "execution_count": 71,
      "outputs": [
        {
          "output_type": "stream",
          "name": "stdout",
          "text": [
            "Percentage of restaurants offering online delivery:\n",
            "Is delivering now\n",
            "No     99.644016\n",
            "Yes     0.355984\n",
            "Name: proportion, dtype: float64\n"
          ]
        }
      ]
    },
    {
      "cell_type": "markdown",
      "source": [
        "Percentage of restaurant that is delivering online now is 0.36"
      ],
      "metadata": {
        "id": "RragEb4Mv8Kw"
      }
    },
    {
      "cell_type": "code",
      "source": [
        "average_rating_by_online_delivery = data.groupby('Has Online delivery')['Aggregate rating'].mean()\n",
        "print(\"Average rating by online delivery:\")\n",
        "print(average_rating_by_online_delivery)"
      ],
      "metadata": {
        "colab": {
          "base_uri": "https://localhost:8080/"
        },
        "id": "VcznTY6owRja",
        "outputId": "c4d689f0-ccb8-41a0-d64b-99a7ffa49707"
      },
      "execution_count": 72,
      "outputs": [
        {
          "output_type": "stream",
          "name": "stdout",
          "text": [
            "Average rating by online delivery:\n",
            "Has Online delivery\n",
            "No     2.465296\n",
            "Yes    3.248837\n",
            "Name: Aggregate rating, dtype: float64\n"
          ]
        }
      ]
    },
    {
      "cell_type": "markdown",
      "source": [
        "Average rating of restaurant with online delivery is 3.47 \\\n",
        "Average rating of restaurant without online delivery is 2.47"
      ],
      "metadata": {
        "id": "zTla2I5Mx63T"
      }
    },
    {
      "cell_type": "code",
      "source": [
        "average_rating_by_online_delivery = data.groupby('Is delivering now')['Aggregate rating'].mean()\n",
        "print(\"Average rating by online delivery:\")\n",
        "print(average_rating_by_online_delivery)"
      ],
      "metadata": {
        "colab": {
          "base_uri": "https://localhost:8080/"
        },
        "id": "5J8Nqg-Dxi_w",
        "outputId": "ddfc85a9-b62d-4407-f25f-0db8a01aff7c"
      },
      "execution_count": 75,
      "outputs": [
        {
          "output_type": "stream",
          "name": "stdout",
          "text": [
            "Average rating by online delivery:\n",
            "Is delivering now\n",
            "No     2.664632\n",
            "Yes    3.152941\n",
            "Name: Aggregate rating, dtype: float64\n"
          ]
        }
      ]
    },
    {
      "cell_type": "markdown",
      "source": [
        "Average rating of restaurants delivering now is 3.15 \\\n",
        "Average rating of restaurants not delivering now is 2.66"
      ],
      "metadata": {
        "id": "TT_E5r_Uyj07"
      }
    },
    {
      "cell_type": "markdown",
      "source": [
        "#Conclusion\n",
        "The percentage of restaurants\n",
        "that offer online delivery is found and the average ratings of restaurants\n",
        "with and without online delivery is compared."
      ],
      "metadata": {
        "id": "YdY8eY9WzJB1"
      }
    },
    {
      "cell_type": "markdown",
      "source": [
        "Level 2 \\\n",
        "Task 1"
      ],
      "metadata": {
        "id": "3rZqqaybztbe"
      }
    },
    {
      "cell_type": "code",
      "source": [
        "distribution_of_agg_rating = data['Aggregate rating'].value_counts(normalize=True) * 100\n",
        "print(\"Distribution of Aggregate Ratings:\")\n",
        "print(distribution_of_agg_rating)"
      ],
      "metadata": {
        "colab": {
          "base_uri": "https://localhost:8080/"
        },
        "id": "47HC0htKznQO",
        "outputId": "1cfcc15c-6e30-4a14-f7b0-a8244b6d5847"
      },
      "execution_count": 76,
      "outputs": [
        {
          "output_type": "stream",
          "name": "stdout",
          "text": [
            "Distribution of Aggregate Ratings:\n",
            "Aggregate rating\n",
            "0.0    22.489792\n",
            "3.2     5.465396\n",
            "3.1     5.433986\n",
            "3.4     5.214114\n",
            "3.3     5.057062\n",
            "3.5     5.025652\n",
            "3.0     4.900010\n",
            "3.6     4.795309\n",
            "3.7     4.470736\n",
            "3.8     4.188043\n",
            "2.9     3.989111\n",
            "3.9     3.507486\n",
            "2.8     3.298084\n",
            "4.1     2.868810\n",
            "4.0     2.785049\n",
            "2.7     2.617527\n",
            "4.2     2.313894\n",
            "2.6     1.999791\n",
            "4.3     1.821799\n",
            "4.4     1.507696\n",
            "2.5     1.151712\n",
            "4.5     0.994660\n",
            "2.4     0.910899\n",
            "4.6     0.816668\n",
            "4.9     0.638677\n",
            "2.3     0.492095\n",
            "4.7     0.439745\n",
            "2.2     0.282693\n",
            "4.8     0.261753\n",
            "2.1     0.157052\n",
            "2.0     0.073291\n",
            "1.9     0.020940\n",
            "1.8     0.010470\n",
            "Name: proportion, dtype: float64\n"
          ]
        }
      ]
    },
    {
      "cell_type": "code",
      "source": [
        "sns.histplot(data['Aggregate rating'], bins=10, kde=True)\n",
        "plt.title('Distribution of Aggregate Ratings')\n",
        "plt.xlabel('Aggregate Rating')\n",
        "plt.ylabel('Frequency')\n",
        "plt.show()"
      ],
      "metadata": {
        "colab": {
          "base_uri": "https://localhost:8080/",
          "height": 472
        },
        "id": "cIQ11W_s1ifQ",
        "outputId": "bfe2f2e9-1a0b-4622-a902-dcdc18ed61d1"
      },
      "execution_count": 79,
      "outputs": [
        {
          "output_type": "display_data",
          "data": {
            "text/plain": [
              "<Figure size 640x480 with 1 Axes>"
            ],
            "image/png": "[encoded data removed]"
          },
          "metadata": {}
        }
      ]
    },
    {
      "cell_type": "markdown",
      "source": [
        "Highest rating range is between 3.0 - 3.5"
      ],
      "metadata": {
        "id": "OW1k6Xc02Qfu"
      }
    },
    {
      "cell_type": "code",
      "source": [
        "most_common_rating=data['Aggregate rating'].value_counts().idxmax()\n",
        "print(\"Most common rating range:\")\n",
        "print(most_common_rating)"
      ],
      "metadata": {
        "colab": {
          "base_uri": "https://localhost:8080/"
        },
        "id": "92PR8UYC13cl",
        "outputId": "364f52d0-b539-4769-c60e-7d02f590a674"
      },
      "execution_count": 86,
      "outputs": [
        {
          "output_type": "stream",
          "name": "stdout",
          "text": [
            "Most common rating range:\n",
            "0.0\n"
          ]
        }
      ]
    },
    {
      "cell_type": "code",
      "metadata": {
        "colab": {
          "base_uri": "https://localhost:8080/"
        },
        "id": "578f7fc0",
        "outputId": "13036499-a5b0-4ad8-d9c5-b8ccc21b1849"
      },
      "source": [
        "most_common_rating = data['Aggregate rating'].value_counts().idxmax()\n",
        "print(f\"The most common aggregate rating is: {most_common_rating}\")"
      ],
      "execution_count": 81,
      "outputs": [
        {
          "output_type": "stream",
          "name": "stdout",
          "text": [
            "The most common aggregate rating is: 0.0\n"
          ]
        }
      ]
    },
    {
      "cell_type": "code",
      "metadata": {
        "colab": {
          "base_uri": "https://localhost:8080/"
        },
        "id": "308f544f",
        "outputId": "d93748ed-a1a8-47e5-c4ac-71c66d671352"
      },
      "source": [
        "rating_bins = [0, 0.5, 1, 1.5, 2, 2.5, 3, 3.5, 4, 4.5, 5]\n",
        "rating_labels = ['0-0.5', '0.5-1', '1-1.5', '1.5-2', '2-2.5', '2.5-3', '3-3.5', '3.5-4', '4-4.5', '4.5-5' ]\n",
        "data['Rating Range'] = pd.cut(data['Aggregate rating'], bins=rating_bins, labels=rating_labels, right=False)\n",
        "rating_range_counts = data['Rating Range'].value_counts().sort_index()\n",
        "most_common_rating_range = rating_range_counts.idxmax()\n",
        "print(\"Distribution of restaurants in rating ranges:\")\n",
        "print(rating_range_counts)\n",
        "print(f\"\\nThe most common rating range is: {most_common_rating_range}\")"
      ],
      "execution_count": 85,
      "outputs": [
        {
          "output_type": "stream",
          "name": "stdout",
          "text": [
            "Distribution of restaurants in rating ranges:\n",
            "Rating Range\n",
            "0-0.5    2148\n",
            "0.5-1       0\n",
            "1-1.5       0\n",
            "1.5-2       3\n",
            "2-2.5     183\n",
            "2.5-3    1247\n",
            "3-3.5    2490\n",
            "3.5-4    2100\n",
            "4-4.5    1079\n",
            "4.5-5     301\n",
            "Name: count, dtype: int64\n",
            "\n",
            "The most common rating range is: 3-3.5\n"
          ]
        }
      ]
    },
    {
      "cell_type": "code",
      "source": [
        "average_votes_by_resturants = data.groupby('Restaurant Name')['Votes'].mean()\n",
        "print(\"Average number of votes by Restaurants:\")\n",
        "print(average_votes_by_resturants)"
      ],
      "metadata": {
        "colab": {
          "base_uri": "https://localhost:8080/"
        },
        "id": "zsEFyzmBEhav",
        "outputId": "086b12e2-ecf5-405b-be5e-eb4217e3bcb0"
      },
      "execution_count": 103,
      "outputs": [
        {
          "output_type": "stream",
          "name": "stdout",
          "text": [
            "Average number of votes by Restaurants:\n",
            "Restaurant Name\n",
            "#45                     209.0\n",
            "#Dilliwaala6            124.0\n",
            "#InstaFreeze              2.0\n",
            "#OFF Campus             216.0\n",
            "#Urban Caf��             49.0\n",
            "                        ...  \n",
            "t Lounge by Dilmah       34.0\n",
            "tashas                  374.0\n",
            "wagamama                131.0\n",
            "{Niche} - Cafe & Bar    492.0\n",
            "�ukura��a Sofras۱       296.0\n",
            "Name: Votes, Length: 7446, dtype: float64\n"
          ]
        }
      ]
    },
    {
      "cell_type": "code",
      "source": [
        "restaurant = input(\"Enter the Restaurant Name:\")\n",
        "print(average_votes_by_resturants[restaurant])\n"
      ],
      "metadata": {
        "colab": {
          "base_uri": "https://localhost:8080/"
        },
        "id": "Rrl4CHnnFV8G",
        "outputId": "1b461726-d547-4129-e0d6-e7d299896bc3"
      },
      "execution_count": 105,
      "outputs": [
        {
          "output_type": "stream",
          "name": "stdout",
          "text": [
            "Enter the Restaurant Name:tashas\n",
            "374.0\n"
          ]
        }
      ]
    },
    {
      "cell_type": "markdown",
      "source": [
        "# Conclusion\n",
        "The distribution of aggregate\n",
        "ratings and the most common\n",
        "rating range are found. The average number of votes received by restaurants is found."
      ],
      "metadata": {
        "id": "SY7OqMqo57PO"
      }
    },
    {
      "cell_type": "markdown",
      "source": [
        "Task 2: Cuisine Combination"
      ],
      "metadata": {
        "id": "WhCM3nHQXjCV"
      }
    },
    {
      "cell_type": "code",
      "source": [
        "cuisine_combinations = data['Cuisines'].fillna('').str.split(', ')\n",
        "all_combinations = [item for sublist in cuisine_combinations for item in sublist]\n",
        "from collections import Counter\n",
        "combination_counts = Counter(all_combinations)\n",
        "most_common_combinations = combination_counts.most_common(50)\n",
        "print(\"Most common cuisine combinations:\")\n",
        "for cuisine_combinations, count in most_common_combinations:\n",
        "    print(f\"{cuisine_combinations}: {count}\")"
      ],
      "metadata": {
        "colab": {
          "base_uri": "https://localhost:8080/"
        },
        "id": "Fha0SxWhGIpf",
        "outputId": "cc2cc2fc-de2f-46d4-f9d9-760e93279509"
      },
      "execution_count": 126,
      "outputs": [
        {
          "output_type": "stream",
          "name": "stdout",
          "text": [
            "Most common cuisine combinations:\n",
            "North Indian: 3960\n",
            "Chinese: 2735\n",
            "Fast Food: 1986\n",
            "Mughlai: 995\n",
            "Italian: 764\n",
            "Bakery: 745\n",
            "Continental: 736\n",
            "Cafe: 703\n",
            "Desserts: 653\n",
            "South Indian: 636\n",
            "Street Food: 562\n",
            "American: 390\n",
            "Pizza: 381\n",
            "Mithai: 380\n",
            "Burger: 251\n",
            "Thai: 234\n",
            "Asian: 233\n",
            "Beverages: 229\n",
            "Ice Cream: 226\n",
            "Mexican: 181\n",
            "Biryani: 177\n",
            "Seafood: 174\n",
            "Healthy Food: 150\n",
            "European: 148\n",
            "Japanese: 135\n",
            "Finger Food: 114\n",
            "Raw Meats: 114\n",
            "Mediterranean: 112\n",
            "Salad: 93\n",
            "Sushi: 75\n",
            "Indian: 70\n",
            "Lebanese: 69\n",
            "Steak: 62\n",
            "Sandwich: 53\n",
            "Tea: 48\n",
            "Tibetan: 44\n",
            "Breakfast: 41\n",
            "Bar Food: 39\n",
            "BBQ: 33\n",
            "French: 29\n",
            "Juices: 29\n",
            "Bengali: 29\n",
            "Brazilian: 28\n",
            "Arabian: 28\n",
            "Hyderabadi: 26\n",
            "Southern: 24\n",
            "Vegetarian: 23\n",
            "Kerala: 23\n",
            "Middle Eastern: 22\n",
            "Malaysian: 22\n"
          ]
        }
      ]
    },
    {
      "cell_type": "code",
      "source": [
        "print('Most common cuisine combination is' ,most_common_combinations[0][0])"
      ],
      "metadata": {
        "colab": {
          "base_uri": "https://localhost:8080/"
        },
        "id": "avzYT-PycXFS",
        "outputId": "f3cd2fed-ac56-4051-aa53-82a4cd68c3f4"
      },
      "execution_count": 127,
      "outputs": [
        {
          "output_type": "stream",
          "name": "stdout",
          "text": [
            "Most common cuisine combination is North Indian\n"
          ]
        }
      ]
    },
    {
      "cell_type": "code",
      "source": [
        "cuisine_combinations('highest_rating')"
      ],
      "metadata": {
        "colab": {
          "base_uri": "https://localhost:8080/",
          "height": 147
        },
        "id": "ud0odVq8ckmj",
        "outputId": "33b8177f-13f4-40dc-ee2b-a221f8426b43"
      },
      "execution_count": 130,
      "outputs": [
        {
          "output_type": "error",
          "ename": "TypeError",
          "evalue": "'str' object is not callable",
          "traceback": [
            "\u001b[0;31m---------------------------------------------------------------------------\u001b[0m",
            "\u001b[0;31mTypeError\u001b[0m                                 Traceback (most recent call last)",
            "\u001b[0;32m/tmp/ipython-input-130-3328190478.py\u001b[0m in \u001b[0;36m<cell line: 0>\u001b[0;34m()\u001b[0m\n\u001b[0;32m----> 1\u001b[0;31m \u001b[0mcuisine_combinations\u001b[0m\u001b[0;34m(\u001b[0m\u001b[0;34m'highest_rating'\u001b[0m\u001b[0;34m)\u001b[0m\u001b[0;34m\u001b[0m\u001b[0;34m\u001b[0m\u001b[0m\n\u001b[0m",
            "\u001b[0;31mTypeError\u001b[0m: 'str' object is not callable"
          ]
        }
      ]
    },
    {
      "cell_type": "code",
      "metadata": {
        "colab": {
          "base_uri": "https://localhost:8080/"
        },
        "id": "15877fed",
        "outputId": "bd64b2cf-12c3-4b12-cd38-5689d41810be"
      },
      "source": [
        "# Calculate average rating for the most common cuisine combinations\n",
        "print(\"Highest rating for the most common cuisine combinations:\")\n",
        "\n",
        "for cuisine_combination, count in most_common_combinations:\n",
        "    # Filter data for restaurants offering the current cuisine combination\n",
        "    # Use .str.contains() to check if the cuisine combination is present in the 'Cuisines' string\n",
        "    filtered_data = data[data['Cuisines'].str.contains(cuisine_combination, na=False)]\n",
        "highest_rating = filtered_data['Aggregate rating'].max()\n",
        "print(f\"{cuisine_combination}: {highest_rating}\")"
      ],
      "execution_count": 144,
      "outputs": [
        {
          "output_type": "stream",
          "name": "stdout",
          "text": [
            "Highest rating for the most common cuisine combinations:\n",
            "Malaysian: 4.4\n"
          ]
        }
      ]
    },
    {
      "cell_type": "code",
      "source": [
        "average_ratings = {}\n",
        "for cuisine_combination, count in most_common_combinations:\n",
        "    filtered_data = data[data['Cuisines'].str.contains(cuisine_combination, na=False)]\n",
        "    average_rating = filtered_data['Aggregate rating'].mean()\n",
        "    average_ratings[cuisine_combination] = average_rating\n",
        "sorted_average_ratings = sorted(average_ratings.items(), key=lambda item: item[1], reverse=True)\n",
        "print(\"Average rating for the most common cuisine combinations (sorted by rating):\")\n",
        "for cuisine_combination, average_rating in sorted_average_ratings:\n",
        "    print(f\"{cuisine_combination}: {average_rating:.2f}\")"
      ],
      "metadata": {
        "colab": {
          "base_uri": "https://localhost:8080/"
        },
        "id": "hbKeO_ahffFs",
        "outputId": "b46c2a96-1615-441d-d634-2963001e260c"
      },
      "execution_count": 146,
      "outputs": [
        {
          "output_type": "stream",
          "name": "stdout",
          "text": [
            "Average rating for the most common cuisine combinations (sorted by rating):\n",
            "Southern: 4.13\n",
            "Vegetarian: 4.07\n",
            "Sandwich: 4.07\n",
            "Steak: 3.99\n",
            "Sushi: 3.97\n",
            "Breakfast: 3.97\n",
            "Mediterranean: 3.95\n",
            "Bar Food: 3.93\n",
            "European: 3.91\n",
            "BBQ: 3.90\n",
            "French: 3.86\n",
            "Seafood: 3.86\n",
            "Asian: 3.82\n",
            "Japanese: 3.80\n",
            "Middle Eastern: 3.76\n",
            "Malaysian: 3.76\n",
            "Mexican: 3.72\n",
            "American: 3.67\n",
            "Thai: 3.66\n",
            "Brazilian: 3.57\n",
            "Italian: 3.56\n",
            "Burger: 3.52\n",
            "Continental: 3.52\n",
            "Hyderabadi: 3.52\n",
            "Kerala: 3.48\n",
            "Lebanese: 3.43\n",
            "Arabian: 3.39\n",
            "Cafe: 3.33\n",
            "Finger Food: 3.28\n",
            "Salad: 3.17\n",
            "Tea: 3.11\n",
            "Healthy Food: 3.08\n",
            "Bengali: 3.01\n",
            "Juices: 2.99\n",
            "Desserts: 2.98\n",
            "Pizza: 2.95\n",
            "Beverages: 2.73\n",
            "Chinese: 2.62\n",
            "Mughlai: 2.61\n",
            "Ice Cream: 2.58\n",
            "Fast Food: 2.56\n",
            "Indian: 2.53\n",
            "North Indian: 2.51\n",
            "South Indian: 2.47\n",
            "Bakery: 2.44\n",
            "Biryani: 2.42\n",
            "Street Food: 2.36\n",
            "Tibetan: 2.30\n",
            "Raw Meats: 2.15\n",
            "Mithai: 2.07\n"
          ]
        }
      ]
    },
    {
      "cell_type": "markdown",
      "source": [
        "Task 3: Geographic Analysis"
      ],
      "metadata": {
        "id": "beZgcG8fkEYc"
      }
    },
    {
      "cell_type": "code",
      "source": [
        "latitude=data['Latitude']\n",
        "longitude=data['Longitude']\n"
      ],
      "metadata": {
        "colab": {
          "base_uri": "https://localhost:8080/",
          "height": 472
        },
        "id": "hNDLJKMYkNHH",
        "outputId": "c8f813df-21d7-4244-b356-c53753dbdd35"
      },
      "execution_count": 149,
      "outputs": [
        {
          "output_type": "display_data",
          "data": {
            "text/plain": [
              "<Figure size 640x480 with 1 Axes>"
            ],
            "image/png": "[encoded data removed]"
          },
          "metadata": {}
        }
      ]
    },
    {
      "cell_type": "code",
      "source": [
        "from sklearn.cluster import KMeans\n",
        "locations = data[['Latitude', 'Longitude']].dropna()\n",
        "n_clusters = 5\n",
        "kmeans = KMeans(n_clusters=n_clusters, random_state=42, n_init=10)\n",
        "data['Cluster'] = -1\n",
        "data.loc[locations.index, 'Cluster'] = kmeans.fit_predict(locations)\n",
        "sns.scatterplot(x=locations['Longitude'], y=locations['Latitude'], hue=data.loc[locations.index, 'Cluster'], palette='viridis', legend='full')\n",
        "plt.title('Restaurant Clusters based on Location')\n",
        "plt.xlabel('Longitude')\n",
        "plt.ylabel('Latitude')\n",
        "plt.show()"
      ],
      "metadata": {
        "colab": {
          "base_uri": "https://localhost:8080/",
          "height": 472
        },
        "id": "m8Tv5i70X85d",
        "outputId": "fca5e402-4a47-4fad-8ee4-422256b5b305"
      },
      "execution_count": 160,
      "outputs": [
        {
          "output_type": "display_data",
          "data": {
            "text/plain": [
              "<Figure size 640x480 with 1 Axes>"
            ],
            "image/png": "[encoded data removed]"
          },
          "metadata": {}
        }
      ]
    },
    {
      "cell_type": "markdown",
      "source": [
        "Task 4 :Restaurant Chains"
      ],
      "metadata": {
        "id": "hcTP0IRXZkjh"
      }
    },
    {
      "cell_type": "code",
      "source": [
        "restaurant_name_counts = data['Restaurant Name'].value_counts()\n",
        "restaurant_chains = restaurant_name_counts[restaurant_name_counts > 1]\n",
        "print(\"Potential Restaurant Chains:\")\n",
        "print(restaurant_chains)"
      ],
      "metadata": {
        "colab": {
          "base_uri": "https://localhost:8080/"
        },
        "id": "mMEcZcUFZwjO",
        "outputId": "e482bb79-ce76-4b8e-f376-1aeee8521251"
      },
      "execution_count": 162,
      "outputs": [
        {
          "output_type": "stream",
          "name": "stdout",
          "text": [
            "Potential Restaurant Chains:\n",
            "Restaurant Name\n",
            "Cafe Coffee Day     83\n",
            "Domino's Pizza      79\n",
            "Subway              63\n",
            "Green Chick Chop    51\n",
            "McDonald's          48\n",
            "                    ..\n",
            "Fish Streat          2\n",
            "Adarsh Kulfi         2\n",
            "Senorita's           2\n",
            "Mahi Rasoi           2\n",
            "Din Tai Fung         2\n",
            "Name: count, Length: 734, dtype: int64\n"
          ]
        }
      ]
    },
    {
      "cell_type": "code",
      "source": [
        "popularity_of_restaurant_chains = restaurant_chains / data.shape[0] * 100\n",
        "print(\"Popularity of Restaurant Chains:\")\n",
        "print(popularity_of_restaurant_chains)"
      ],
      "metadata": {
        "colab": {
          "base_uri": "https://localhost:8080/"
        },
        "id": "6BlkgnJ7asze",
        "outputId": "f4c78512-017b-4a98-b1ce-6a653a5e2a75"
      },
      "execution_count": 163,
      "outputs": [
        {
          "output_type": "stream",
          "name": "stdout",
          "text": [
            "Popularity of Restaurant Chains:\n",
            "Restaurant Name\n",
            "Cafe Coffee Day     0.869019\n",
            "Domino's Pizza      0.827139\n",
            "Subway              0.659617\n",
            "Green Chick Chop    0.533975\n",
            "McDonald's          0.502565\n",
            "                      ...   \n",
            "Fish Streat         0.020940\n",
            "Adarsh Kulfi        0.020940\n",
            "Senorita's          0.020940\n",
            "Mahi Rasoi          0.020940\n",
            "Din Tai Fung        0.020940\n",
            "Name: count, Length: 734, dtype: float64\n"
          ]
        }
      ]
    },
    {
      "cell_type": "code",
      "source": [
        "rating_of_restaurant_chains = data[data['Restaurant Name'].isin(restaurant_chains.index)].groupby('Restaurant Name')['Aggregate rating'].mean()\n",
        "print(\"Rating of Restaurant Chains:\")\n",
        "print(rating_of_restaurant_chains)"
      ],
      "metadata": {
        "colab": {
          "base_uri": "https://localhost:8080/"
        },
        "id": "kMIFO_gTbMfe",
        "outputId": "8f583e2c-eb52-411a-f734-57975490332c"
      },
      "execution_count": 172,
      "outputs": [
        {
          "output_type": "stream",
          "name": "stdout",
          "text": [
            "Rating of Restaurant Chains:\n",
            "Restaurant Name\n",
            "10 Downing Street       4.000000\n",
            "221 B Baker Street      3.366667\n",
            "34 Parkstreet Lane      3.050000\n",
            "34, Chowringhee Lane    2.791667\n",
            "4700BC Popcorn          3.500000\n",
            "                          ...   \n",
            "Zaika                   2.850000\n",
            "Zaika Kathi Rolls       1.500000\n",
            "Zizo                    3.866667\n",
            "Zooby's Kitchen         3.150000\n",
            "bu��no                  3.750000\n",
            "Name: Aggregate rating, Length: 734, dtype: float64\n"
          ]
        }
      ]
    },
    {
      "cell_type": "markdown",
      "source": [
        "Level 3\n",
        "Task 1: Restaurant Review"
      ],
      "metadata": {
        "id": "s-3O16kgdF-4"
      }
    },
    {
      "cell_type": "code",
      "source": [
        "rating_text_counts = data['Rating text'].value_counts()\n",
        "print(\"Distribution of Rating Text:\")\n",
        "print(rating_text_counts)"
      ],
      "metadata": {
        "colab": {
          "base_uri": "https://localhost:8080/"
        },
        "id": "d2G1_SUyioez",
        "outputId": "a5e383ea-7609-458e-970f-11d78f50458a"
      },
      "execution_count": 185,
      "outputs": [
        {
          "output_type": "stream",
          "name": "stdout",
          "text": [
            "Distribution of Rating Text:\n",
            "Rating text\n",
            "Average      3737\n",
            "Not rated    2148\n",
            "Good         2100\n",
            "Very Good    1079\n",
            "Excellent     301\n",
            "Poor          186\n",
            "Name: count, dtype: int64\n"
          ]
        }
      ]
    },
    {
      "cell_type": "code",
      "source": [
        "unique_rating_text = data['Rating text'].unique()\n",
        "print(\"Unique Rating Texts:\")\n",
        "print(unique_rating_text)"
      ],
      "metadata": {
        "colab": {
          "base_uri": "https://localhost:8080/"
        },
        "id": "d9KMZHRHi-lj",
        "outputId": "675017af-80e5-4a21-ca29-b135101a4207"
      },
      "execution_count": 189,
      "outputs": [
        {
          "output_type": "stream",
          "name": "stdout",
          "text": [
            "Unique Rating Texts:\n",
            "['Excellent' 'Very Good' 'Good' 'Average' 'Not rated' 'Poor']\n"
          ]
        }
      ]
    },
    {
      "cell_type": "markdown",
      "source": [
        "Task 2 : Votes Analysis"
      ],
      "metadata": {
        "id": "Ve3Rqrv7qlYa"
      }
    },
    {
      "cell_type": "code",
      "source": [
        "\n",
        "highest_votes = data['Votes'].max()\n",
        "restaurants_with_highest_votes = data[data['Votes'] == highest_votes]['Restaurant Name'].tolist()\n",
        "\n",
        "print(f\"Restaurant(s) with the highest number of votes ({highest_votes}):\")\n",
        "for restaurant in restaurants_with_highest_votes:\n",
        "    print(f\"- {restaurant}\")\n",
        "\n",
        "print(\"\\n\")\n",
        "\n",
        "lowest_votes = data[data['Votes'] > 0]['Votes'].min()\n",
        "restaurants_with_lowest_votes = data[data['Votes'] == lowest_votes]['Restaurant Name'].tolist()\n",
        "\n",
        "print(f\"Restaurant(s) with the lowest number of votes (excluding 0, with {lowest_votes} vote(s)):\")\n",
        "for restaurant in restaurants_with_lowest_votes:\n",
        "    print(f\"- {restaurant}\")\n",
        "\n",
        "zero_vote_restaurants = data[data['Votes'] == 0]['Restaurant Name'].tolist()\n",
        "if zero_vote_restaurants:\n",
        "    print(f\"\\nRestaurant(s) with 0 votes ({len(zero_vote_restaurants)} found):\")\n",
        "    # Print only a few examples if there are many\n",
        "    if len(zero_vote_restaurants) > 10:\n",
        "        for restaurant in zero_vote_restaurants[:10]:\n",
        "            print(f\"- {restaurant}\")\n",
        "        print(f\"... and {len(zero_vote_restaurants) - 10} more.\")\n",
        "    else:\n",
        "        for restaurant in zero_vote_restaurants:\n",
        "            print(f\"- {restaurant}\")"
      ],
      "metadata": {
        "colab": {
          "base_uri": "https://localhost:8080/"
        },
        "id": "dxUyUfLPmtB1",
        "outputId": "edc54646-2c7e-4132-ab8f-95f0dac176cf"
      },
      "execution_count": 215,
      "outputs": [
        {
          "output_type": "stream",
          "name": "stdout",
          "text": [
            "Restaurant(s) with the highest number of votes (10934):\n",
            "- Toit\n",
            "\n",
            "\n",
            "Restaurant(s) with the lowest number of votes (excluding 0, with 1 vote(s)):\n",
            "- Quiosque Chopp Brahma\n",
            "- Nosh Mahal\n",
            "- Aggarwal Sweet Corner\n",
            "- Aapki Rasoi\n",
            "- Popcorn Fusion\n",
            "- Tmos Cafe Corner\n",
            "- Anand Dhaba\n",
            "- Delicieux Ice Cream Rolls\n",
            "- Grub Hub\n",
            "- Ahata\n",
            "- Oh My !\n",
            "- The Dark Hour - Kitchen\n",
            "- King's Kitchen\n",
            "- Aggarwal Sweets And Caterers\n",
            "- Sam's Bake Shop\n",
            "- Chicken Inn Family Meat Shop\n",
            "- Chatny Delight\n",
            "- Sri Meenakshi South Indian Food\n",
            "- Pizza Express\n",
            "- Mom's Kitchen\n",
            "- The Street- Curries & Grills\n",
            "- Mitalis Kitchen\n",
            "- Chimney - The Takeaway\n",
            "- Good to Go\n",
            "- Late Night Food\n",
            "- OMG Kitchenz\n",
            "- Sardarji Chicken Point\n",
            "- Eggzellent\n",
            "- Yo! Dimsum\n",
            "- Prabhat Fast Food Corner\n",
            "- Metro Dhaba\n",
            "- Sukhman Food City\n",
            "- Anisha Restaurant\n",
            "- Annapoorna Foods\n",
            "- Bansiwala Sweets\n",
            "- Chaska Food Corner\n",
            "- Honey Hot & Spicy\n",
            "- Indochi Cafe & Restaurant\n",
            "- Pizza King\n",
            "- Savour\n",
            "- Wah Ji Wah\n",
            "- Indian Food Cafe\n",
            "- Chefy's Kitchen\n",
            "- Full Dabba\n",
            "- Krishna Restaurant\n",
            "- Radha Swami Shudh Vaishno Dhaba\n",
            "- Burger Joint\n",
            "- Kwality Wall's Swirl's\n",
            "- Burger Point\n",
            "- Dhara\n",
            "- Kehar Sweets And Snacks\n",
            "- Shakes Cakes 'n' More\n",
            "- The Breakfast Bite\n",
            "- Biryani Express\n",
            "- Cake Innovation\n",
            "- Chawla's�_\n",
            "- China Gathering\n",
            "- Vijeta's Happy Kitchen\n",
            "- Freshnfit.in\n",
            "- Kujay's Spoon\n",
            "- Mutton Mewar\n",
            "- Premier Bite\n",
            "- Street Foods by Punjab Grill\n",
            "- Tpot\n",
            "- Dosa Republic\n",
            "- Lazeez Restaurant\n",
            "- Purani Dilli Foods\n",
            "- Cafe Brewbug\n",
            "- Chilll House Kafe\n",
            "- Magic Masala\n",
            "- FFC Restaurant\n",
            "- 6 Pack Momos\n",
            "- Bhasad Cafe\n",
            "- Indian Fresh Meat Shop\n",
            "- Malhotra Bakery\n",
            "- Punjabi Chaap Corner\n",
            "- Hotel New Tamil Nadu\n",
            "- Annapurna Chaat & Sweets\n",
            "- Grover Eating Point\n",
            "- Cafe Coffee Day\n",
            "- Cuisine\n",
            "- The Night Owl\n",
            "- Wimpy Sweets And Confectioners\n",
            "- Kake Di Hatti Punjabi Khana\n",
            "- Kumar Sweet House\n",
            "- Parantha Point\n",
            "- RR China Tawun\n",
            "- Turning Point Fast Food\n",
            "- Derawal Soda Fountain\n",
            "- Eat & Gulp\n",
            "- Papa Buns\n",
            "- Amritsari Naan Hut\n",
            "- Bikaner Rasoi\n",
            "- Da Pizza Farm\n",
            "- KSG\n",
            "- The Taste of Punjab\n",
            "- Wrap N Roll\n",
            "- 17 Degree Food Service\n",
            "- Aurangzeb\n",
            "- Janaab\n",
            "- Test Restaruants for Medio\n",
            "- Vijay Store\n",
            "- Panchratna Thali\n",
            "- Gupta's Food Point\n",
            "- Giani's\n",
            "- Jo Jo Chinese Fast Food\n",
            "- Lots of Food\n",
            "- Pompas Chicken\n",
            "- Tandoori Tadka\n",
            "- The Square Meal\n",
            "- South Gate\n",
            "- Apna Punjabi Zayka\n",
            "- Delhi Chaat Bhandar\n",
            "- Encounter\n",
            "- Flavour's\n",
            "- Food Adda\n",
            "- Hot & Pot\n",
            "- Shubham Vaishno Bhojanalya\n",
            "- Shudh Vaishno Bhojanalaya\n",
            "- Aggarwal Sweets\n",
            "- Hook Up\n",
            "- Jnm Mama Mafia\n",
            "- Kitchen199\n",
            "- Republic of Chicken\n",
            "- 34 Park Street Lane\n",
            "- Bombay Pao Bhaji\n",
            "- Food Daddy\n",
            "- Gupta's Vegetarian Paradise\n",
            "- Jaisons\n",
            "- Curry Capital - Hotel Classic Diplomat\n",
            "- The Grand Kitchen\n",
            "- Kashmiri Hills Wazwan\n",
            "- Food Code 99\n",
            "- New Kovilakam Restaurant\n",
            "- Shama Muradabadi Chicken Corner\n",
            "- Starve Stalkers\n",
            "- Tava & Tandoor\n",
            "- Bikaner Sweets\n",
            "- Bittoo Murge Wala\n",
            "- Mohan Chaat Corner\n",
            "- Mr. Momo\n",
            "- Pishori Chicken Corner\n",
            "- Punjab Patiyala Sahi\n",
            "- Golden Bakery\n",
            "- Birbal Ji Dhaba\n",
            "- Kashmiri Wazwan\n",
            "- Sanjha Chulha\n",
            "- Subhash Punjabi Family Dhaba\n",
            "- Chill House Kafe\n",
            "- Amul Ice-Cream Parlour\n",
            "- Al-Malik Chicken Point\n",
            "- Food 24\n",
            "- Hide Out Cafe\n",
            "- Ganpati Bhoj\n",
            "- Amritsari Chaat Bhandar\n",
            "- GO CHATZ With Breadz\n",
            "- Khanna's Hot Pizza\n",
            "- Raj Petha Bhandar\n",
            "- Sanjha Chula Baba Da\n",
            "- Burger Head Quarter BHQ\n",
            "- Chez Jerome - Q Cafe\n",
            "- Mulligan Cafe\n",
            "- OCD - Online Cake Delivery\n",
            "- Puja Sandwich House\n",
            "- Chicken King\n",
            "- Govinda\n",
            "- Karma Cafe & Lounge\n",
            "- New Anna Ka Dosa\n",
            "- Golden Bakery\n",
            "- Apna Dhaba\n",
            "- Burger Wala\n",
            "- Jain Sweets & Bakers\n",
            "- Metropolitan Cafe\n",
            "- Pakwan\n",
            "- Pokhreli Kitchen\n",
            "- Rasoi\n",
            "- Sha-O-Lin Chinese Fast Food\n",
            "- Shahi Chicken Corner\n",
            "- Yadav Sweets\n",
            "- Achi Restaurant\n",
            "- Lotus House Restaurant\n",
            "- Tsopema Restaurant\n",
            "- Snacks Point\n",
            "- Aman Vaishno Dhaba\n",
            "- Chawlas 2\n",
            "- Goodies- Snacks N More\n",
            "- Mr. Baker's\n",
            "- Tripti Foods\n",
            "- Annapurna\n",
            "- Harish And Sonu Sudh Bhojnalya\n",
            "- Munchies Midnight Delivery\n",
            "- Riyaz Chicken Corner\n",
            "- Royal Spice\n",
            "- Al Zaika\n",
            "- Dragun Hut\n",
            "- The China Town\n",
            "- The Urban Dhaba\n",
            "- Baskin Robbins\n",
            "- Hotel Aditi\n",
            "- Manna Sweets & Restaurant\n",
            "- Moets Curry Pot\n",
            "- Saraswati Food Corner\n",
            "- Shri Balaji Bhojnalaya\n",
            "- Lord's - The Sports Lounge\n",
            "- Malhotra's Zayeeka\n",
            "- Taaj Kitchen\n",
            "- Chaap Chaska\n",
            "- Delhite P��tisserie\n",
            "- Flavours Kitchen\n",
            "- Hasty Tasty\n",
            "- Inam Muradabadi\n",
            "- Lasha Chinese Food\n",
            "- Lily Tasty Fast Food\n",
            "- Maa Vaishno Dinesh Dhaba\n",
            "- Punjabi Paratha Station\n",
            "- West Bangal Kolkata Hot Kathi Rolls\n",
            "- Aggarwal Sweets\n",
            "- KT's Shik-Shack\n",
            "- Namaste Restaurant\n",
            "- The Cake Basket\n",
            "- Aggarwal Bikaner Sweets\n",
            "- Aggarwal Sweet Centre\n",
            "- Brown Town Bakers\n",
            "- Captain Food Factory\n",
            "- Dev Sweets & Restaurant\n",
            "- Mithla Dhabha\n",
            "- NBC Nirankari Bakers\n",
            "- Sat Narayan Fast Food\n",
            "- Sky Hawk\n",
            "- Soya Bite's\n",
            "- Soya Bite's\n",
            "- Yadav Sweets\n",
            "- Yummy Chinese Food\n",
            "- Anand Sweets\n",
            "- Annapurna Sweets Palace\n",
            "- Krishna Panjabi Rasoi\n",
            "- Lazeez Zaika\n",
            "- Super Star Restaurant\n",
            "- The Food Express\n",
            "- Aggarwal Sweets & Bakers\n",
            "- Chinese Hot\n",
            "- Krishna Yummy Foods\n",
            "- Laxmi Dhaba\n",
            "- Wrapss\n",
            "- Anupama Restaurant\n",
            "- Cafe Einstein\n",
            "- Gupta Rasoi\n",
            "- Paras Chicken Point\n",
            "- Annapurna Food Point\n",
            "- Chokoreto - The Cake Design Studio\n",
            "- The Bay Leaf\n",
            "- Mx Corn\n",
            "- The Belgian Fries Company\n",
            "- Cafexpress\n",
            "- Mauja Hi Mauja\n",
            "- Aggarwal Sweets Centre\n",
            "- Anupama Snacks and Sweets Corner\n",
            "- Balaji Eating Point\n",
            "- Bikaner Sweet Corner\n",
            "- Cook & Connect\n",
            "- Domino's Pizza\n",
            "- Flavors Of London\n",
            "- Hyderabadi & Muradabadi Chicken Corner\n",
            "- It's Pizza Town\n",
            "- ITO Ke Mashoor Chole Bhature\n",
            "- Kayasthas Food Junction\n",
            "- KGN Chicken Corner\n",
            "- Nand Bhai Chholey Bhature\n",
            "- Rana Sweets and Restaurant\n",
            "- Rastogi Sweets & Caterers\n",
            "- Sher e Punjab Rasoi\n",
            "- Shyam Rasoi\n",
            "- Subhan Chicken Biryani\n",
            "- The Night Rider\n",
            "- Yadav Chaat Bhandar\n",
            "- Yadav Ji Chholey Bhature\n",
            "- Khan Chacha\n",
            "- Chennai Dosa Express\n",
            "- Chennai Dosa Xpress\n",
            "- Mahavir Sweets\n",
            "- Shree Balaji Caterers\n",
            "- Yumbuns\n",
            "- Sree Krishna Udupi\n",
            "- Baskin Robbins\n",
            "- Giani\n",
            "- Perfect Party Chef\n",
            "- Shanghai Chinese Food\n",
            "- Dabbba Wala Home Away\n",
            "- Fourteen Eleven Tea Cafe\n",
            "- Hussain - UP Ki Mashoor Biryani\n",
            "- Mangal Ji and Gupta Ji Dhaba\n",
            "- Shere-E-Punjab\n",
            "- Biryani Point\n",
            "- Faaso's\n",
            "- Kingdom Restaurant\n",
            "- Million Kitchen\n",
            "- Ovenstory Pizza\n",
            "- Chillax Cafe And Bistro\n",
            "- Jee Aao Jee Chole Bhature\n",
            "- LSK Express\n",
            "- CHA! WA!!\n",
            "- Home Kitchen\n",
            "- Safdarjung Club\n",
            "- Starup Catering\n",
            "- The Chinese & Thai Restaurant\n",
            "- Abdullah Biryani Centre\n",
            "- Allishan Family Restaurant\n",
            "- Meatwale.com\n",
            "- Mohit Bakery\n",
            "- Pho King Awesome\n",
            "- PIE\n",
            "- Bikaner Sweets\n",
            "- Brij Ki Rasoi\n",
            "- Jo's Peace of Cake\n",
            "- MK Tiffin Service\n",
            "- Om Aggarwal Sweets\n",
            "- Chowringhee\n",
            "- Krispy Kitchen\n",
            "- Mughlai Point\n",
            "- Maharaja Food Club\n",
            "- ADM Foodi\n",
            "- Aggarwal Sweet India\n",
            "- Aggarwal Sweets\n",
            "- Al-Taj Shamim Chicken Point\n",
            "- Bikaner Sweets & Restaurant\n",
            "- Bikaner Sweets\n",
            "- Ex- Taj Foods\n",
            "- Fantasy Pastry Shop\n",
            "- Gareeb Dhaba\n",
            "- Hot & Chilly Point\n",
            "- Hot Chinese & Fast Food\n",
            "- Jony Sweets\n",
            "- Prakash Sweets\n",
            "- South Cafe\n",
            "- Wah Ji Wah\n",
            "- Bikaner Sweets & Restaurant\n",
            "- Come 'n' Eat\n",
            "- Hirdesh Eating Point\n",
            "- Joshi Eating House\n",
            "- Pawar's Food Court Inc.\n",
            "- Yummy Rasoi\n",
            "- Baba Chaap Wala\n",
            "- Cafe Coffee Day\n",
            "- Da Pizza Palace\n",
            "- Hot Wok\n",
            "- Ichak Dana\n",
            "- Nirula's Ice Cream\n",
            "- Royal Cakes\n",
            "- Republic of Chicken\n",
            "- Special Chicken Biryani\n",
            "- Babu Meat Wala\n",
            "- Gourmet Bistro\n",
            "- Lajwab Pastry Palace\n",
            "- Rajender Di Punjabi Rasoi\n",
            "- Ram Ji Snacks & Food Corner\n",
            "- Sharma Ji Spring Roll\n",
            "- Ajeet Fast Food Corner\n",
            "- Al Changezi\n",
            "- Dragon Way\n",
            "- Foodaholic\n",
            "- Indian Chinese Fast Food\n",
            "- Satguru Tiffin Service\n",
            "- Stuffed Kathi Roll\n",
            "- Dee Pizza Hub\n",
            "- Giani\n",
            "- Health-O-Lic\n",
            "- Himalya Chinese\n",
            "- Manpasand Punjabi Zaika\n",
            "- Pizza Station\n",
            "- South Indian Hut\n",
            "- Brijwasi Sweet and Namkeen\n",
            "- Lala Da Shudh Vaishno Dhaba\n",
            "- Veg. Darbar\n",
            "- Bakermania\n",
            "- Kaptain Bakery\n",
            "- Mahinder Food Corner\n",
            "- Practically Perfect\n",
            "- Cafe Youth\n",
            "- Cake Express\n",
            "- Hyderabad's Delight\n",
            "- Richa's Bakery\n",
            "- Shree Krishna Restaurant\n",
            "- The Royal Prestige\n",
            "- Food Factory\n",
            "- Rupa Ice Cream Parlour\n",
            "- Chai Garam\n",
            "- Karim's\n",
            "- Khub Chand\n",
            "- OCD - Online Cake Delivery\n",
            "- Sher E Punjab\n",
            "- Bismillah Hotel\n",
            "- Let's Eat\n",
            "- The Relax Point\n",
            "- Zareen's Dastarkhwan\n",
            "- Dolce Gelato\n",
            "- Dunkin' Donuts\n",
            "- Food Plaza\n",
            "- Tod-Bistro Cafe\n",
            "- Vadilal Ice Cream Parlour\n",
            "- The Butler & The Chef - Jaypee Greens\n",
            "- Baskin Robbins\n",
            "- Chai Thela\n",
            "- Joost Juice Bar\n",
            "- Juice Lounge\n",
            "- Kings Kulfi\n",
            "- Robins Sweets & Restaurant\n",
            "- Chaskaa Restaurant\n",
            "- Chawla's 2\n",
            "- Haochi\n",
            "- Uncle's Corner\n",
            "- Red Chilli\n",
            "- Riyaz Biryani Corner\n",
            "- Standard Sweets\n",
            "- Tiffinhunt\n",
            "- Top Burger\n",
            "- The Flip On Wheel\n",
            "- Big Biryani\n",
            "- Delicacies\n",
            "- Kanha Ji Sweets & Restaurant\n",
            "- Little China\n",
            "- Lola's Cafe\n",
            "- Madras Coffee House\n",
            "- Sandoz\n",
            "- Tea Nation\n",
            "- Tpot\n",
            "- Jaak Foods\n",
            "- Kaka Restaurant\n",
            "- KC Bakers\n",
            "- KC Bakery\n",
            "- Rajan Foods Corner\n",
            "- Sarfira\n",
            "- Yummy Kitchen\n",
            "- Night Munchers\n",
            "- Twenty Four Seven\n",
            "- The Food Factory\n",
            "- Hungro\n",
            "- Shiparma Shri\n",
            "- Shri Adarsh Kulfi\n",
            "- Simla Bakery\n",
            "- The Big Chefs\n",
            "- Bunz & Dogz\n",
            "- Cafe Buddy's\n",
            "- Antaryami Paratha Corner\n",
            "- Biryani\n",
            "- Chicago Pizza\n",
            "- Nawabi Mughlai Zaika Food Van\n",
            "- Bangali Restaurant\n",
            "- Zaika Tiffin Center\n",
            "- Balaji Restaurant & Sweets\n",
            "- Cookie House\n",
            "- Amazing Burgers\n",
            "- Ghar Ka Khana\n",
            "- Knight Kitchens\n",
            "- Momos Box\n",
            "- Chacha Food Street\n",
            "- Pihu's Cafe\n",
            "- Essen Foods\n",
            "- Cafe Rap\n",
            "- Doon Dhaba\n",
            "- Green Chick Chop\n",
            "- Kesarwa Bakez\n",
            "- Let's Noodle\n",
            "- New Dragon Chinese Fast Food  & Paranthey Wala\n",
            "- Delhi Mughlai Biryani\n",
            "- 4U\n",
            "- Big B Pastry Shop\n",
            "- Chef's Curry\n",
            "- Ice Stone Cafe\n",
            "- Lucknow Wale Kwality Kabab\n",
            "- Royal King\n",
            "- Tikka Express meets Chennai Express\n",
            "- Yolkers\n",
            "- Cream Bell\n",
            "- The Bakery Mart\n",
            "- Fire n Ice\n",
            "- Balti\n",
            "- Baskin Robbins\n",
            "- Pizza Junction\n",
            "- Chocolate Fountain\n",
            "- McDonald's\n",
            "- Tea Trails\n",
            "- Bread & Pasta\n",
            "- The Grand\n",
            "\n",
            "Restaurant(s) with 0 votes (1094 found):\n",
            "- Cantinho da Gula\n",
            "- The Chaiwalas\n",
            "- Fusion Food Corner\n",
            "- Punjabi Rasoi\n",
            "- Baskin Robbin\n",
            "- Angaar\n",
            "- TcozY\n",
            "- The Retriever\n",
            "- Chill 'N Grill\n",
            "- Punjabi Restaurant\n",
            "... and 1084 more.\n"
          ]
        }
      ]
    },
    {
      "cell_type": "code",
      "source": [
        "correlation = data['Votes'].corr(data['Aggregate rating'])\n",
        "print(f\"Correlation between number of votes and aggregate rating: {correlation:.2f}\")\n",
        "plt.figure(figsize=(10, 6))\n",
        "sns.scatterplot(x=data['Votes'], y=data['Aggregate rating'], alpha=0.6)\n",
        "plt.title('Relationship between Votes and Aggregate Rating')\n",
        "plt.xlabel('Number of Votes')\n",
        "plt.ylabel('Aggregate Rating')\n",
        "plt.show()"
      ],
      "metadata": {
        "colab": {
          "base_uri": "https://localhost:8080/",
          "height": 500
        },
        "id": "Gvqu-dRdsA3M",
        "outputId": "f30449c0-c19c-4405-b837-f309c0cfeafa"
      },
      "execution_count": 216,
      "outputs": [
        {
          "output_type": "stream",
          "name": "stdout",
          "text": [
            "Correlation between number of votes and aggregate rating: 0.31\n"
          ]
        },
        {
          "output_type": "display_data",
          "data": {
            "text/plain": [
              "<Figure size 1000x600 with 1 Axes>"
            ],
            "image/png": "[encoded data removed]"
          },
          "metadata": {}
        }
      ]
    },
    {
      "cell_type": "markdown",
      "source": [
        "There is mild positive correlation between the number of votes and the rating of a restaurant."
      ],
      "metadata": {
        "id": "BDJFHxeuuC40"
      }
    }
  ]
}